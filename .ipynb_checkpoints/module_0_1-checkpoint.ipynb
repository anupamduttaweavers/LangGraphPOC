{
 "cells": [
  {
   "cell_type": "code",
   "execution_count": 1,
   "id": "ba23d212",
   "metadata": {},
   "outputs": [
    {
     "name": "stdout",
     "output_type": "stream",
     "text": [
      "Note: you may need to restart the kernel to use updated packages.\n"
     ]
    }
   ],
   "source": [
    "%pip install -qU langchain langgraph langsmith langchain_core langchain_community langchain_openai python-dotenv jupyterlab notebook"
   ]
  },
  {
   "cell_type": "code",
   "execution_count": null,
   "id": "cc67fc5d-9efb-4d6f-9abe-8ffb8812c0c6",
   "metadata": {},
   "outputs": [],
   "source": [
    "#Exploring messages from langchain_core.messages AIMessage, HumanMessage, SystemMessage"
   ]
  }
 ],
 "metadata": {
  "kernelspec": {
   "display_name": "Python 3 (ipykernel)",
   "language": "python",
   "name": "python3"
  },
  "language_info": {
   "codemirror_mode": {
    "name": "ipython",
    "version": 3
   },
   "file_extension": ".py",
   "mimetype": "text/x-python",
   "name": "python",
   "nbconvert_exporter": "python",
   "pygments_lexer": "ipython3",
   "version": "3.13.2"
  }
 },
 "nbformat": 4,
 "nbformat_minor": 5
}
